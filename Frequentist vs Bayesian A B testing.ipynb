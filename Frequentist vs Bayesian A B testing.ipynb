{
 "cells": [
  {
   "cell_type": "markdown",
   "metadata": {},
   "source": [
    "Frequentist approach to A/B testing"
   ]
  },
  {
   "cell_type": "markdown",
   "metadata": {},
   "source": [
    "The aim of this notebook is to demonstrate the scenarios when we conduct the experiment in both frequentist and Bayesian frameworks Objective: LinkedIn wants to increase its conversion ratio when a customer clicks on “LinkedIn Premium” button. The underlying assumption is that the layout, information and other page factors are affecting the conversion ratio. Let’s call this current variant “A”. Thus, we want to run an A/B test comparing the performance of variant “A” with a different variant “B”. Scenario: LinkedIn decides to conduct an experiment where, the site sends them to one of two (or possibly more) different pages when a user clicks on “LinkedIn premium” button. The purpose is to determine which page version generates a superior outcome, i.e. which page generates more number of conversions. Below represents the results and their interpretation from the two approaches.Frequentist: Include cumulative conversion graphs with a vertical line representing the decision boundary on 60th day. Results. We get a p value of 0.02 and hence we can reject the null hypothesis Below is how the conversation would look like between a product manager and a product analyst/decision scientist working with him Below is a hypothetical conversation of how hard it is to explain the resultsAnalyst: Hey, good news! We got a significant result with a p value of 0.02. So we can reject the null hypothesis.Manager: That’s great! This means that we can accept the alternate hypothesis as there is 98% chance that the version b is better.Analyst: (Thinking) Well that escalated quickly.Analyst: Well the results mean that there is 2% chance to observe this sample (conversions from variant B) as extreme as this. And we can’t say anything about the probability of one variant being better than other. Even the confidence interval doesn’t indicate the how probable these values are (i.e. edge values of the confidence interval does not mean that they are less probable than middle values of the confidence interval.)Manager: Wait, what? Bayesian approach: Include cumulative conversion graph with decision boundary on 30th day and. Results: Based on the data we have observed, we are 95% sure that version “B” is better than “A”. Credible interval is __. This gives the probability of difference in conversion rates between “A” and “B” Manager: Well that makes it quite clear!These results highlight the following areas where Bayesian approach is better than frequentist approach:Sample size:Interpretability:We get information about the probabilities of the variants Now let’s discuss about   "
   ]
  },
  {
   "cell_type": "markdown",
   "metadata": {},
   "source": [
    "Importing libraries"
   ]
  },
  {
   "cell_type": "code",
   "execution_count": 12,
   "metadata": {},
   "outputs": [],
   "source": [
    "import pandas as pd\n",
    "import pymc3 as pm\n",
    "import numpy as np\n",
    "import matplotlib.pyplot as plt\n",
    "from statsmodels.stats.proportion import proportions_ztest\n",
    "from statsmodels.stats.proportion import proportions_chisquare\n",
    "import scipy.stats as stats\n",
    "from scipy.stats import beta"
   ]
  },
  {
   "cell_type": "markdown",
   "metadata": {},
   "source": [
    "###### Generate campaign data"
   ]
  },
  {
   "cell_type": "code",
   "execution_count": 4,
   "metadata": {},
   "outputs": [],
   "source": [
    "def gen_campaigns(p1,p2,nb_days,scaler,seed):\n",
    "    #generate fake data\n",
    "    np.random.seed(seed)\n",
    "    ns = np.random.triangular(50,100,150,size=120).astype(int)\n",
    "    np.random.seed(seed)\n",
    "    es = np.random.randn(nb_days*2) / scaler\n",
    "\n",
    "    n1 = ns[:nb_days]\n",
    "    c1 = ((p1 + es[:nb_days]) * n1).astype(int)\n",
    "    n2 = ns[nb_days:]\n",
    "    c2 = ((p2 + es[nb_days:]) * n2).astype(int)\n",
    "    conv_days = pd.DataFrame({'click_day':range(nb_days),'click_a':n1,'conv_a':c1,'click_b':n2,'conv_b':c2})\n",
    "\n",
    "    conv_days =  conv_days[['click_day','click_a','click_b','conv_a','conv_b']]\n",
    "    conv_days['cumu_click_a'] = conv_days.click_a.cumsum()\n",
    "    conv_days['cumu_click_b'] = conv_days.click_b.cumsum()\n",
    "    conv_days['cumu_conv_a'] = conv_days.conv_a.cumsum()\n",
    "    conv_days['cumu_conv_b'] = conv_days.conv_b.cumsum()\n",
    "    conv_days['cumu_rate_a'] = conv_days.cumu_conv_a / conv_days.cumu_click_a\n",
    "    conv_days['cumu_rate_b'] = conv_days.cumu_conv_b / conv_days.cumu_click_b\n",
    "    conv_days['daily_conv_rate_a'] = conv_days.conv_a/conv_days.click_a\n",
    "    conv_days['daily_conv_rate_b'] = conv_days.conv_b/conv_days.click_b\n",
    "    return conv_days"
   ]
  },
  {
   "cell_type": "markdown",
   "metadata": {},
   "source": [
    "generating fake data"
   ]
  },
  {
   "cell_type": "code",
   "execution_count": 5,
   "metadata": {},
   "outputs": [
    {
     "data": {
      "text/html": [
       "<div>\n",
       "<style scoped>\n",
       "    .dataframe tbody tr th:only-of-type {\n",
       "        vertical-align: middle;\n",
       "    }\n",
       "\n",
       "    .dataframe tbody tr th {\n",
       "        vertical-align: top;\n",
       "    }\n",
       "\n",
       "    .dataframe thead th {\n",
       "        text-align: right;\n",
       "    }\n",
       "</style>\n",
       "<table border=\"1\" class=\"dataframe\">\n",
       "  <thead>\n",
       "    <tr style=\"text-align: right;\">\n",
       "      <th></th>\n",
       "      <th>click_day</th>\n",
       "      <th>click_a</th>\n",
       "      <th>click_b</th>\n",
       "      <th>conv_a</th>\n",
       "      <th>conv_b</th>\n",
       "      <th>cumu_click_a</th>\n",
       "      <th>cumu_click_b</th>\n",
       "      <th>cumu_conv_a</th>\n",
       "      <th>cumu_conv_b</th>\n",
       "      <th>cumu_rate_a</th>\n",
       "      <th>cumu_rate_b</th>\n",
       "      <th>daily_conv_rate_a</th>\n",
       "      <th>daily_conv_rate_b</th>\n",
       "    </tr>\n",
       "  </thead>\n",
       "  <tbody>\n",
       "    <tr>\n",
       "      <th>0</th>\n",
       "      <td>0</td>\n",
       "      <td>125</td>\n",
       "      <td>100</td>\n",
       "      <td>10</td>\n",
       "      <td>9</td>\n",
       "      <td>125</td>\n",
       "      <td>100</td>\n",
       "      <td>10</td>\n",
       "      <td>9</td>\n",
       "      <td>0.080000</td>\n",
       "      <td>0.090000</td>\n",
       "      <td>0.080000</td>\n",
       "      <td>0.090000</td>\n",
       "    </tr>\n",
       "    <tr>\n",
       "      <th>1</th>\n",
       "      <td>1</td>\n",
       "      <td>114</td>\n",
       "      <td>54</td>\n",
       "      <td>9</td>\n",
       "      <td>5</td>\n",
       "      <td>239</td>\n",
       "      <td>154</td>\n",
       "      <td>19</td>\n",
       "      <td>14</td>\n",
       "      <td>0.079498</td>\n",
       "      <td>0.090909</td>\n",
       "      <td>0.078947</td>\n",
       "      <td>0.092593</td>\n",
       "    </tr>\n",
       "    <tr>\n",
       "      <th>2</th>\n",
       "      <td>2</td>\n",
       "      <td>67</td>\n",
       "      <td>95</td>\n",
       "      <td>5</td>\n",
       "      <td>8</td>\n",
       "      <td>306</td>\n",
       "      <td>249</td>\n",
       "      <td>24</td>\n",
       "      <td>22</td>\n",
       "      <td>0.078431</td>\n",
       "      <td>0.088353</td>\n",
       "      <td>0.074627</td>\n",
       "      <td>0.084211</td>\n",
       "    </tr>\n",
       "    <tr>\n",
       "      <th>3</th>\n",
       "      <td>3</td>\n",
       "      <td>96</td>\n",
       "      <td>76</td>\n",
       "      <td>7</td>\n",
       "      <td>7</td>\n",
       "      <td>402</td>\n",
       "      <td>325</td>\n",
       "      <td>31</td>\n",
       "      <td>29</td>\n",
       "      <td>0.077114</td>\n",
       "      <td>0.089231</td>\n",
       "      <td>0.072917</td>\n",
       "      <td>0.092105</td>\n",
       "    </tr>\n",
       "    <tr>\n",
       "      <th>4</th>\n",
       "      <td>4</td>\n",
       "      <td>89</td>\n",
       "      <td>96</td>\n",
       "      <td>8</td>\n",
       "      <td>8</td>\n",
       "      <td>491</td>\n",
       "      <td>421</td>\n",
       "      <td>39</td>\n",
       "      <td>37</td>\n",
       "      <td>0.079430</td>\n",
       "      <td>0.087886</td>\n",
       "      <td>0.089888</td>\n",
       "      <td>0.083333</td>\n",
       "    </tr>\n",
       "  </tbody>\n",
       "</table>\n",
       "</div>"
      ],
      "text/plain": [
       "   click_day  click_a  click_b  conv_a  conv_b  cumu_click_a  cumu_click_b  \\\n",
       "0          0      125      100      10       9           125           100   \n",
       "1          1      114       54       9       5           239           154   \n",
       "2          2       67       95       5       8           306           249   \n",
       "3          3       96       76       7       7           402           325   \n",
       "4          4       89       96       8       8           491           421   \n",
       "\n",
       "   cumu_conv_a  cumu_conv_b  cumu_rate_a  cumu_rate_b  daily_conv_rate_a  \\\n",
       "0           10            9     0.080000     0.090000           0.080000   \n",
       "1           19           14     0.079498     0.090909           0.078947   \n",
       "2           24           22     0.078431     0.088353           0.074627   \n",
       "3           31           29     0.077114     0.089231           0.072917   \n",
       "4           39           37     0.079430     0.087886           0.089888   \n",
       "\n",
       "   daily_conv_rate_b  \n",
       "0           0.090000  \n",
       "1           0.092593  \n",
       "2           0.084211  \n",
       "3           0.092105  \n",
       "4           0.083333  "
      ]
     },
     "execution_count": 5,
     "metadata": {},
     "output_type": "execute_result"
    }
   ],
   "source": [
    "#generating data\n",
    "conv_days = gen_campaigns(p1 = 0.08,\n",
    "                          p2 = 0.092,\n",
    "                          nb_days = 60,\n",
    "                          scaler=100,\n",
    "                          seed = 1412) #god-mode \n",
    "conv_days.head()"
   ]
  },
  {
   "cell_type": "markdown",
   "metadata": {},
   "source": [
    "Plot of campaign data over days"
   ]
  },
  {
   "cell_type": "code",
   "execution_count": 6,
   "metadata": {},
   "outputs": [
    {
     "data": {
      "image/png": "[encoded data removed]",
      "text/plain": [
       "<matplotlib.figure.Figure at 0x1db750b3b70>"
      ]
     },
     "metadata": {},
     "output_type": "display_data"
    }
   ],
   "source": [
    "fig, ax = plt.subplots(figsize=(14,6))\n",
    "plt.style.use('seaborn-whitegrid')\n",
    "ax.plot(conv_days['click_day'], conv_days['cumu_rate_a'], label = 'cumu_rate_a')\n",
    "ax.plot(conv_days['click_day'],conv_days['cumu_rate_b'], label = 'cumu_rate_b')\n",
    "ax.set_title('Graph 1: Conversion rates over days ')\n",
    "ax.set_ylabel('Cumulative conversion / cumulative clicks')\n",
    "ax.set_xlabel('Click days')\n",
    "legend = ax.legend(loc = 'best',ncol=1,frameon = True)\n",
    "plt.show()"
   ]
  },
  {
   "cell_type": "markdown",
   "metadata": {},
   "source": [
    "Overall campaign data "
   ]
  },
  {
   "cell_type": "code",
   "execution_count": 7,
   "metadata": {},
   "outputs": [
    {
     "data": {
      "text/html": [
       "<div>\n",
       "<style scoped>\n",
       "    .dataframe tbody tr th:only-of-type {\n",
       "        vertical-align: middle;\n",
       "    }\n",
       "\n",
       "    .dataframe tbody tr th {\n",
       "        vertical-align: top;\n",
       "    }\n",
       "\n",
       "    .dataframe thead th {\n",
       "        text-align: right;\n",
       "    }\n",
       "</style>\n",
       "<table border=\"1\" class=\"dataframe\">\n",
       "  <thead>\n",
       "    <tr style=\"text-align: right;\">\n",
       "      <th></th>\n",
       "      <th>Campaign_ID</th>\n",
       "      <th>Clicks</th>\n",
       "      <th>Conversion</th>\n",
       "      <th>Conversion_pct</th>\n",
       "    </tr>\n",
       "  </thead>\n",
       "  <tbody>\n",
       "    <tr>\n",
       "      <th>0</th>\n",
       "      <td>A</td>\n",
       "      <td>5921</td>\n",
       "      <td>434</td>\n",
       "      <td>0.073298</td>\n",
       "    </tr>\n",
       "    <tr>\n",
       "      <th>1</th>\n",
       "      <td>B</td>\n",
       "      <td>5864</td>\n",
       "      <td>498</td>\n",
       "      <td>0.084925</td>\n",
       "    </tr>\n",
       "  </tbody>\n",
       "</table>\n",
       "</div>"
      ],
      "text/plain": [
       "  Campaign_ID  Clicks  Conversion  Conversion_pct\n",
       "0           A    5921         434        0.073298\n",
       "1           B    5864         498        0.084925"
      ]
     },
     "execution_count": 7,
     "metadata": {},
     "output_type": "execute_result"
    }
   ],
   "source": [
    "campaign = pd.DataFrame({'Campaign_ID':['A','B'], 'Clicks': [conv_days.click_a.sum(),\n",
    "                                                               conv_days.click_b.sum()],\n",
    "                        'Conversion': [conv_days.conv_a.sum(),conv_days.conv_b.sum()],\n",
    "                        'Conversion_pct': [conv_days.conv_a.sum()/conv_days.click_a.sum(),\n",
    "                                           conv_days.conv_b.sum()/conv_days.click_b.sum()]})\n",
    "campaign.head(5)"
   ]
  },
  {
   "cell_type": "markdown",
   "metadata": {},
   "source": [
    "Frequentist Power Calculations"
   ]
  },
  {
   "cell_type": "code",
   "execution_count": 74,
   "metadata": {},
   "outputs": [
    {
     "name": "stdout",
     "output_type": "stream",
     "text": [
      "Sample Size for one group: 4946.722\n"
     ]
    }
   ],
   "source": [
    "# Assuming the minimum detectable difference as 5% i.e. delta = 0.05\n",
    "\n",
    "#type I error = 5% alpha\n",
    "#type II error = 20% beta\n",
    "# Power = 80%\n",
    "\n",
    "#Power and sample size calculations\n",
    "\n",
    "# estimate sample size via power analysis\n",
    "from statsmodels.stats.power import TTestIndPower\n",
    "# parameters for power analysis\n",
    "effect = 0.05\n",
    "alpha = 0.05\n",
    "power = 0.8\n",
    "# perform power analysis\n",
    "analysis = TTestIndPower()\n",
    "result = TTestIndPower().solve_power(effect, power=power, nobs1=None, ratio=1.0, alpha=alpha, alternative = 'larger')\n",
    "print('Sample Size for one group: %.3f' % result)"
   ]
  },
  {
   "cell_type": "markdown",
   "metadata": {},
   "source": [
    "Experiment run time"
   ]
  },
  {
   "cell_type": "code",
   "execution_count": 67,
   "metadata": {},
   "outputs": [
    {
     "name": "stdout",
     "output_type": "stream",
     "text": [
      "We we have to run the experiment for minimum of 50 days\n"
     ]
    }
   ],
   "source": [
    "experiment_runtime = min(conv_days.loc[(conv_days['cumu_click_b']> result ) & (conv_days['cumu_click_b'] > result)].click_day)\n",
    "print('We have to run the experiment for minimum of %.f days' %experiment_runtime)"
   ]
  },
  {
   "cell_type": "markdown",
   "metadata": {},
   "source": [
    "Sample size Curve"
   ]
  },
  {
   "cell_type": "code",
   "execution_count": 68,
   "metadata": {},
   "outputs": [
    {
     "data": {
      "image/png": "[encoded data removed]",
      "text/plain": [
       "<Figure size 432x288 with 1 Axes>"
      ]
     },
     "metadata": {},
     "output_type": "display_data"
    }
   ],
   "source": [
    "#Power curve\n",
    "\n",
    "# calculate the the required sample size\n",
    "# for a range of minimum detectable difference\n",
    "sample_sizes = []\n",
    "effect_sizes = np.arange(0.03, 0.1, 0.005)\n",
    "for effect in effect_sizes:\n",
    "    sample_size = TTestIndPower().solve_power(effect, power=power, nobs1=None, ratio=1.0, alpha=alpha, alternative = 'larger')\n",
    "    sample_sizes.append(sample_size)\n",
    "\n",
    "plt.plot(effect_sizes, sample_sizes)\n",
    "plt.title('Sample Size Required for the Minimum Detectable Difference')\n",
    "plt.ylabel('Sample Size')\n",
    "plt.xlabel('Minimum Detectable Difference')\n",
    "plt.tight_layout()\n",
    "plt.show()\n"
   ]
  },
  {
   "cell_type": "markdown",
   "metadata": {},
   "source": [
    "Power curve"
   ]
  },
  {
   "cell_type": "code",
   "execution_count": 69,
   "metadata": {},
   "outputs": [
    {
     "data": {
      "image/png": "[encoded data removed]",
      "text/plain": [
       "<Figure size 432x288 with 1 Axes>"
      ]
     },
     "metadata": {},
     "output_type": "display_data"
    }
   ],
   "source": [
    "#H0 and H1 distribution plot with power\n",
    "\n",
    "def plot_power(min_diff, prob_b, size_a, size_b, significance = 0.05):\n",
    "    \"\"\"illustrating power through a one-tailed hypothesis test\"\"\"\n",
    "    \n",
    "    # obtain the z-score for the minimum detectable\n",
    "    # difference using proportion_ztest\n",
    "    prob_a = prob_b + min_diff\n",
    "    count_a = size_a * prob_a\n",
    "    count_b = size_b * prob_b\n",
    "    counts = np.array([count_a, count_b])\n",
    "    nobs = np.array([size_a, size_b])\n",
    "    zscore, _ = proportions_ztest(counts, nobs, alternative = 'larger')\n",
    "\n",
    "    # distribution for the null hypothesis, h0\n",
    "    # and alternative hypothesis, h1\n",
    "    h0 = stats.norm(loc = 0, scale = 1)\n",
    "    h1 = stats.norm(loc = zscore, scale = 1)\n",
    "\n",
    "    # points that are greater than the zscore for the\n",
    "    # specified significance level\n",
    "    x = np.linspace(-5, 6, num = 100)\n",
    "    threshold = h0.ppf(1 - significance)\n",
    "    mask = x > threshold\n",
    "    \n",
    "    # power is the area after the threshold, i.e.\n",
    "    # 1 - the cumulative distribution function of that point\n",
    "    power = np.round(1 - h1.cdf(threshold), 2)\n",
    "\n",
    "    hypotheses = [h1, h0]\n",
    "    labels = ['$H_1$ is true', '$H_0$ is true']\n",
    "    for hypothesis, label in zip(hypotheses, labels):\n",
    "        y = hypothesis.pdf(x)\n",
    "        line = plt.plot(x, y, label = label)  \n",
    "        plt.fill_between(x = x[mask], y1 = 0.0, y2 = y[mask],\n",
    "                         alpha = 0.2, color = line[0].get_color())\n",
    "    \n",
    "    title = 'p1: {}, p2: {}, size1: {}, size2: {}, power: {}'\n",
    "    plt.title(title.format(prob_a, prob_b, size_a, size_b, power))\n",
    "    plt.legend()\n",
    "    plt.tight_layout()\n",
    "    plt.show()\n",
    "    \n",
    "prob_b = 0.08\n",
    "min_diff = 0.02\n",
    "size_a = 2500\n",
    "size_b = 2500\n",
    "\n",
    "plot_power(min_diff, prob_b, size_a, size_b)\n",
    "#plot_power(0.05, 0.08, 2500, 2500)"
   ]
  },
  {
   "cell_type": "markdown",
   "metadata": {},
   "source": [
    "Measurement of the results after 50 days"
   ]
  },
  {
   "cell_type": "code",
   "execution_count": 8,
   "metadata": {},
   "outputs": [
    {
     "name": "stdout",
     "output_type": "stream",
     "text": [
      "zscore = 2.230, pvalue = 0.026\n"
     ]
    }
   ],
   "source": [
    "def two_proprotions_test(success_a, size_a, success_b, size_b):\n",
    "    \"\"\"\n",
    "    A/B test for two proportions;\n",
    "    given a success a trial size of group A and B compute\n",
    "    its zscore and pvalue\n",
    "    \n",
    "    Parameters\n",
    "    ----------\n",
    "    success_a, success_b : int\n",
    "        Number of successes in each group\n",
    "        \n",
    "    size_a, size_b : int\n",
    "        Size, or number of observations in each group\n",
    "    \n",
    "    Returns\n",
    "    -------\n",
    "    zscore : float\n",
    "        test statistic for the two proportion z-test\n",
    "\n",
    "    pvalue : float\n",
    "        p-value for the two proportion z-test\n",
    "    \"\"\"\n",
    "    prop_a = success_a / size_a\n",
    "    prop_b = success_b / size_b\n",
    "    prop_pooled = (success_a + success_b) / (size_a + size_b)\n",
    "    var = prop_pooled * (1 - prop_pooled) * (1 / size_a + 1 / size_b)\n",
    "    zscore = np.abs(prop_b - prop_a) / np.sqrt(var)\n",
    "    one_side = 1 - stats.norm(loc = 0, scale = 1).cdf(zscore)\n",
    "    pvalue = one_side * 2\n",
    "    return zscore, pvalue\n",
    "\n",
    "click_day = 50\n",
    "conversions_a = conv_days.loc[conv_days['click_day'] == click_day]['cumu_conv_a'].values[0]\n",
    "clicks_a = conv_days.loc[conv_days['click_day'] == click_day]['cumu_click_a'].values[0]\n",
    "conversions_b = conv_days.loc[conv_days['click_day'] == click_day]['cumu_conv_b'].values[0]\n",
    "clicks_b = conv_days.loc[conv_days['click_day'] == click_day]['cumu_click_b'].values[0]\n",
    "\n",
    "#zscore, pvalue = two_proprotions_test(success_a, size_a, success_b, size_b)\n",
    "zscore, pvalue = two_proprotions_test(conversions_a, clicks_a, conversions_b, clicks_b)\n",
    "print('zscore = {:.3f}, pvalue = {:.3f}'.format(zscore, pvalue))\n"
   ]
  },
  {
   "cell_type": "markdown",
   "metadata": {},
   "source": [
    "Bayesian Approach"
   ]
  },
  {
   "cell_type": "markdown",
   "metadata": {},
   "source": [
    "Considering Historical data"
   ]
  },
  {
   "cell_type": "code",
   "execution_count": 9,
   "metadata": {},
   "outputs": [
    {
     "data": {
      "image/png": "[encoded data removed]",
      "text/plain": [
       "<matplotlib.figure.Figure at 0x1db750b3b00>"
      ]
     },
     "metadata": {},
     "output_type": "display_data"
    }
   ],
   "source": [
    "# Historical data on the conversion rates\n",
    "plt.rcParams['figure.figsize'] = (16, 7)\n",
    "\n",
    "true_a = 2.06 #alpha parameter of the beta distribution from which we are generating campaigns\n",
    "true_b = 20 #beta parameter of the beta distribution from which we are generating campaigns\n",
    "\n",
    "#number of marketing campaigns\n",
    "N = 100\n",
    "\n",
    "#randomly generate \"true\" click through rate for each campaign\n",
    "p = np.random.beta(true_a,true_b, size=N)\n",
    "\n",
    "#randomly pick the number of impressions for each campaign\n",
    "impressions = np.random.randint(1, 10000, size=N)\n",
    "\n",
    "#sample number of clicks for each campaign\n",
    "clicks = np.random.binomial(impressions, p).astype(float)\n",
    "click_through_rates = clicks / impressions\n",
    "\n",
    "#plot the histogram of previous click through rates with the evidence\n",
    "#of the new campaign\n",
    "f, ax = plt.subplots(1)\n",
    "\n",
    "zero_to_one = [j/100. for j in range(100)]\n",
    "counts, bins = np.histogram(click_through_rates\n",
    "                            , bins=zero_to_one)\n",
    "counts = counts / 100.\n",
    "ax.plot(bins[:-1],counts, alpha = .5)\n",
    "#line1, line2, line3 = ax.lines\n",
    "ax.legend('Frequency of Theta Historically'\n",
    "                          )\n",
    "ax.set_xlabel(\"Conversion Rate\")\n",
    "ax.grid()\n",
    "ax.set_title(\"Historical Click Through Rates\")\n",
    "plt.show()"
   ]
  },
  {
   "cell_type": "markdown",
   "metadata": {},
   "source": [
    "Estimating beta prior"
   ]
  },
  {
   "cell_type": "code",
   "execution_count": 13,
   "metadata": {},
   "outputs": [
    {
     "data": {
      "image/png": "[encoded data removed]",
      "text/plain": [
       "<matplotlib.figure.Figure at 0x1db755041d0>"
      ]
     },
     "metadata": {},
     "output_type": "display_data"
    }
   ],
   "source": [
    "prior_parameters = beta.fit(click_through_rates\n",
    "                            , floc = 0\n",
    "                            , fscale = 1)\n",
    "#extract a,b from fit\n",
    "alpha_prior, beta_prior = prior_parameters[0:2]\n",
    "\n",
    "#define prior distribution sample from prior\n",
    "prior_distribution = beta(alpha_prior, beta_prior)\n",
    "#get histogram of samples\n",
    "prior_samples = prior_distribution.rvs(10000)\n",
    "#get histogram of samples\n",
    "fit_counts, bins = np.histogram(prior_samples\n",
    "                                , zero_to_one)\n",
    "#normalize histogram\n",
    "fit_counts = list(map(lambda x: float(x)/fit_counts.sum()\n",
    "                         , fit_counts))\n",
    "\n",
    "#plot\n",
    "f, ax = plt.subplots(1)\n",
    "ax.plot(bins[:-1], fit_counts)\n",
    "hist_ctr, bins = np.histogram(click_through_rates\n",
    "                              , zero_to_one)\n",
    "hist_ctr = list(map(lambda x: float(x)/hist_ctr.sum()\n",
    "                              , hist_ctr))\n",
    "ax.plot(bins[:-1], hist_ctr)\n",
    "estimated_prior, previous_click_through_rates = ax.lines\n",
    "ax.legend((estimated_prior, previous_click_through_rates)\n",
    "          ,('Estimated Prior'\n",
    "            , 'Previous Click Through Rates'))\n",
    "ax.grid()\n",
    "ax.set_title(\"Comparing Empirical Prior with Previous Click Through Rates\")\n",
    "plt.show()"
   ]
  },
  {
   "cell_type": "markdown",
   "metadata": {},
   "source": [
    "Finding a posterior distribution for a beta binomial conjugate prior"
   ]
  },
  {
   "cell_type": "code",
   "execution_count": 17,
   "metadata": {},
   "outputs": [],
   "source": [
    "#posterior distribution\n",
    "def posterior(alpha_prior, beta_prior, variant, click_day):    \n",
    "    \n",
    "    alpha_prior = alpha_prior\n",
    "    beta_prior = beta_prior\n",
    "    \n",
    "    if variant == 'A':  \n",
    "        conversions_a = conv_days.loc[conv_days['click_day'] == click_day]['cumu_conv_a'].values[0]\n",
    "        clicks_a = conv_days.loc[conv_days['click_day'] == click_day]['cumu_click_a'].values[0]\n",
    "        alpha_posterior = alpha_prior+conversions_a\n",
    "        beta_posterior = beta_prior + clicks_a - conversions_a\n",
    "        posterior_beta_distri = stats.beta(alpha_posterior, beta_posterior)\n",
    "        print(\"alpha and beta for posterior dissribution of variant 'A' will be \", \n",
    "              alpha_posterior, \"and\" , beta_posterior)\n",
    "\n",
    "    elif variant == 'B':\n",
    "        conversions_b = conv_days.loc[conv_days['click_day'] == click_day]['cumu_conv_b'].values[0]\n",
    "        clicks_b = conv_days.loc[conv_days['click_day'] == click_day]['cumu_click_b'].values[0]\n",
    "        alpha_posterior = alpha_prior+conversions_b\n",
    "        beta_posterior = beta_prior + clicks_b - conversions_b\n",
    "        posterior_beta_distri = stats.beta(alpha_posterior, beta_posterior)\n",
    "        print(\"alpha and beta for posterior dissribution of variant 'B' will be \", \n",
    "              alpha_posterior, \"and\" , beta_posterior)\n",
    "        \n",
    "    else:\n",
    "        print(\"pass third argumet as as variant you want i.e. 'A' or 'B' \")\n",
    "    \n",
    "    return posterior_beta_distri"
   ]
  },
  {
   "cell_type": "markdown",
   "metadata": {},
   "source": [
    "Function to find out difference between pdfs of two beta distribution based on John Cook's solution\n",
    "\n",
    "This could also be done by Monte Carlo Simulations"
   ]
  },
  {
   "cell_type": "code",
   "execution_count": 16,
   "metadata": {},
   "outputs": [],
   "source": [
    "from math import lgamma\n",
    "from numba import jit\n",
    "\n",
    "#defining the functions used\n",
    "@jit\n",
    "def h(a, b, c, d):\n",
    "    num = lgamma(a + c) + lgamma(b + d) + lgamma(a + b) + lgamma(c + d)\n",
    "    den = lgamma(a) + lgamma(b) + lgamma(c) + lgamma(d) + lgamma(a + b + c + d)\n",
    "    return np.exp(num - den)\n",
    "@jit\n",
    "def g0(a, b, c):    \n",
    "    return np.exp(lgamma(a + b) + lgamma(a + c) - (lgamma(a + b + c) + lgamma(a)))\n",
    "@jit\n",
    "def hiter(a, b, c, d):\n",
    "    while d > 1:\n",
    "        d -= 1\n",
    "        yield h(a, b, c, d) / d\n",
    "def g(a, b, c, d):\n",
    "    return g0(a, b, c) + sum(hiter(a, b, c, d))\n",
    "def calc_prob_between(beta1, beta2):\n",
    "    return g(beta1.args[0], beta1.args[1], beta2.args[0], beta2.args[1])"
   ]
  },
  {
   "cell_type": "markdown",
   "metadata": {},
   "source": [
    "Calculating Posterior from beta binomial prior based on a daily basis and estimating probabilities"
   ]
  },
  {
   "cell_type": "code",
   "execution_count": 18,
   "metadata": {},
   "outputs": [
    {
     "name": "stdout",
     "output_type": "stream",
     "text": [
      "alpha and beta for posterior dissribution of variant 'A' will be  11.6880734621692 and 131.52749278430696\n",
      "alpha and beta for posterior dissribution of variant 'B' will be  10.6880734621692 and 107.52749278430696\n",
      "alpha and beta for posterior dissribution of variant 'A' will be  20.6880734621692 and 236.52749278430696\n",
      "alpha and beta for posterior dissribution of variant 'B' will be  15.6880734621692 and 156.52749278430696\n",
      "alpha and beta for posterior dissribution of variant 'A' will be  25.6880734621692 and 298.52749278430696\n",
      "alpha and beta for posterior dissribution of variant 'B' will be  23.6880734621692 and 243.52749278430696\n",
      "alpha and beta for posterior dissribution of variant 'A' will be  32.6880734621692 and 387.52749278430696\n",
      "alpha and beta for posterior dissribution of variant 'B' will be  30.6880734621692 and 312.52749278430696\n",
      "alpha and beta for posterior dissribution of variant 'A' will be  40.6880734621692 and 468.52749278430696\n",
      "alpha and beta for posterior dissribution of variant 'B' will be  38.6880734621692 and 400.52749278430696\n",
      "alpha and beta for posterior dissribution of variant 'A' will be  48.6880734621692 and 575.527492784307\n",
      "alpha and beta for posterior dissribution of variant 'B' will be  44.6880734621692 and 464.52749278430696\n",
      "alpha and beta for posterior dissribution of variant 'A' will be  59.6880734621692 and 694.527492784307\n",
      "alpha and beta for posterior dissribution of variant 'B' will be  55.6880734621692 and 582.527492784307\n",
      "alpha and beta for posterior dissribution of variant 'A' will be  66.6880734621692 and 812.527492784307\n",
      "alpha and beta for posterior dissribution of variant 'B' will be  63.6880734621692 and 669.527492784307\n",
      "alpha and beta for posterior dissribution of variant 'A' will be  72.6880734621692 and 900.527492784307\n",
      "alpha and beta for posterior dissribution of variant 'B' will be  73.6880734621692 and 776.527492784307\n",
      "alpha and beta for posterior dissribution of variant 'A' will be  78.6880734621692 and 996.527492784307\n",
      "alpha and beta for posterior dissribution of variant 'B' will be  81.6880734621692 and 868.527492784307\n",
      "alpha and beta for posterior dissribution of variant 'A' will be  85.6880734621692 and 1075.527492784307\n",
      "alpha and beta for posterior dissribution of variant 'B' will be  92.6880734621692 and 977.527492784307\n",
      "alpha and beta for posterior dissribution of variant 'A' will be  91.6880734621692 and 1163.527492784307\n",
      "alpha and beta for posterior dissribution of variant 'B' will be  100.6880734621692 and 1057.527492784307\n",
      "alpha and beta for posterior dissribution of variant 'A' will be  97.6880734621692 and 1243.527492784307\n",
      "alpha and beta for posterior dissribution of variant 'B' will be  109.6880734621692 and 1134.527492784307\n",
      "alpha and beta for posterior dissribution of variant 'A' will be  104.6880734621692 and 1346.527492784307\n",
      "alpha and beta for posterior dissribution of variant 'B' will be  115.6880734621692 and 1204.527492784307\n",
      "alpha and beta for posterior dissribution of variant 'A' will be  109.6880734621692 and 1409.527492784307\n",
      "alpha and beta for posterior dissribution of variant 'B' will be  120.6880734621692 and 1264.527492784307\n",
      "alpha and beta for posterior dissribution of variant 'A' will be  117.6880734621692 and 1500.527492784307\n",
      "alpha and beta for posterior dissribution of variant 'B' will be  128.6880734621692 and 1359.527492784307\n",
      "alpha and beta for posterior dissribution of variant 'A' will be  125.6880734621692 and 1596.527492784307\n",
      "alpha and beta for posterior dissribution of variant 'B' will be  133.6880734621692 and 1414.527492784307\n",
      "alpha and beta for posterior dissribution of variant 'A' will be  135.6880734621692 and 1715.527492784307\n",
      "alpha and beta for posterior dissribution of variant 'B' will be  142.6880734621692 and 1518.527492784307\n",
      "alpha and beta for posterior dissribution of variant 'A' will be  145.6880734621692 and 1836.527492784307\n",
      "alpha and beta for posterior dissribution of variant 'B' will be  150.6880734621692 and 1625.527492784307\n",
      "alpha and beta for posterior dissribution of variant 'A' will be  152.6880734621692 and 1909.527492784307\n",
      "alpha and beta for posterior dissribution of variant 'B' will be  160.6880734621692 and 1750.527492784307\n",
      "alpha and beta for posterior dissribution of variant 'A' will be  159.6880734621692 and 2002.527492784307\n",
      "alpha and beta for posterior dissribution of variant 'B' will be  166.6880734621692 and 1818.527492784307\n",
      "alpha and beta for posterior dissribution of variant 'A' will be  168.6880734621692 and 2128.527492784307\n",
      "alpha and beta for posterior dissribution of variant 'B' will be  173.6880734621692 and 1901.527492784307\n",
      "alpha and beta for posterior dissribution of variant 'A' will be  177.6880734621692 and 2231.527492784307\n",
      "alpha and beta for posterior dissribution of variant 'B' will be  183.6880734621692 and 2005.527492784307\n",
      "alpha and beta for posterior dissribution of variant 'A' will be  182.6880734621692 and 2323.527492784307\n",
      "alpha and beta for posterior dissribution of variant 'B' will be  192.6880734621692 and 2123.527492784307\n",
      "alpha and beta for posterior dissribution of variant 'A' will be  190.6880734621692 and 2402.527492784307\n",
      "alpha and beta for posterior dissribution of variant 'B' will be  199.6880734621692 and 2208.527492784307\n",
      "alpha and beta for posterior dissribution of variant 'A' will be  197.6880734621692 and 2481.527492784307\n",
      "alpha and beta for posterior dissribution of variant 'B' will be  209.6880734621692 and 2308.527492784307\n",
      "alpha and beta for posterior dissribution of variant 'A' will be  203.6880734621692 and 2566.527492784307\n",
      "alpha and beta for posterior dissribution of variant 'B' will be  219.6880734621692 and 2391.527492784307\n",
      "alpha and beta for posterior dissribution of variant 'A' will be  209.6880734621692 and 2663.527492784307\n",
      "alpha and beta for posterior dissribution of variant 'B' will be  226.6880734621692 and 2471.527492784307\n",
      "alpha and beta for posterior dissribution of variant 'A' will be  218.6880734621692 and 2779.527492784307\n",
      "alpha and beta for posterior dissribution of variant 'B' will be  232.6880734621692 and 2528.527492784307\n",
      "alpha and beta for posterior dissribution of variant 'A' will be  223.6880734621692 and 2845.527492784307\n",
      "alpha and beta for posterior dissribution of variant 'B' will be  241.6880734621692 and 2620.527492784307\n",
      "alpha and beta for posterior dissribution of variant 'A' will be  231.6880734621692 and 2942.527492784307\n",
      "alpha and beta for posterior dissribution of variant 'B' will be  249.6880734621692 and 2709.527492784307\n",
      "alpha and beta for posterior dissribution of variant 'A' will be  239.6880734621692 and 3048.527492784307\n",
      "alpha and beta for posterior dissribution of variant 'B' will be  256.6880734621692 and 2797.527492784307\n",
      "alpha and beta for posterior dissribution of variant 'A' will be  245.6880734621692 and 3132.527492784307\n",
      "alpha and beta for posterior dissribution of variant 'B' will be  262.6880734621692 and 2869.527492784307\n",
      "alpha and beta for posterior dissribution of variant 'A' will be  251.6880734621692 and 3220.527492784307\n",
      "alpha and beta for posterior dissribution of variant 'B' will be  272.6880734621692 and 2985.527492784307\n",
      "alpha and beta for posterior dissribution of variant 'A' will be  262.6880734621692 and 3342.527492784307\n",
      "alpha and beta for posterior dissribution of variant 'B' will be  284.6880734621692 and 3093.527492784307\n",
      "alpha and beta for posterior dissribution of variant 'A' will be  266.6880734621692 and 3394.527492784307\n",
      "alpha and beta for posterior dissribution of variant 'B' will be  297.6880734621692 and 3213.527492784307\n",
      "alpha and beta for posterior dissribution of variant 'A' will be  270.6880734621692 and 3462.527492784307\n",
      "alpha and beta for posterior dissribution of variant 'B' will be  304.6880734621692 and 3295.527492784307\n",
      "alpha and beta for posterior dissribution of variant 'A' will be  276.6880734621692 and 3541.527492784307\n",
      "alpha and beta for posterior dissribution of variant 'B' will be  310.6880734621692 and 3368.527492784307\n",
      "alpha and beta for posterior dissribution of variant 'A' will be  280.6880734621692 and 3599.527492784307\n",
      "alpha and beta for posterior dissribution of variant 'B' will be  316.6880734621692 and 3443.527492784307\n",
      "alpha and beta for posterior dissribution of variant 'A' will be  288.6880734621692 and 3697.527492784307\n",
      "alpha and beta for posterior dissribution of variant 'B' will be  323.6880734621692 and 3540.527492784307\n",
      "alpha and beta for posterior dissribution of variant 'A' will be  295.6880734621692 and 3772.527492784307\n",
      "alpha and beta for posterior dissribution of variant 'B' will be  331.6880734621692 and 3633.527492784307\n",
      "alpha and beta for posterior dissribution of variant 'A' will be  301.6880734621692 and 3856.5274927843066\n",
      "alpha and beta for posterior dissribution of variant 'B' will be  338.6880734621692 and 3701.527492784307\n",
      "alpha and beta for posterior dissribution of variant 'A' will be  307.6880734621692 and 3935.5274927843066\n",
      "alpha and beta for posterior dissribution of variant 'B' will be  348.6880734621692 and 3787.5274927843066\n",
      "alpha and beta for posterior dissribution of variant 'A' will be  319.6880734621692 and 4052.5274927843066\n",
      "alpha and beta for posterior dissribution of variant 'B' will be  359.6880734621692 and 3882.5274927843066\n",
      "alpha and beta for posterior dissribution of variant 'A' will be  327.6880734621692 and 4145.527492784307\n",
      "alpha and beta for posterior dissribution of variant 'B' will be  365.6880734621692 and 3955.5274927843066\n",
      "alpha and beta for posterior dissribution of variant 'A' will be  331.6880734621692 and 4218.527492784307\n",
      "alpha and beta for posterior dissribution of variant 'B' will be  377.6880734621692 and 4070.5274927843066\n",
      "alpha and beta for posterior dissribution of variant 'A' will be  340.6880734621692 and 4302.527492784307\n",
      "alpha and beta for posterior dissribution of variant 'B' will be  385.6880734621692 and 4168.527492784307\n",
      "alpha and beta for posterior dissribution of variant 'A' will be  345.6880734621692 and 4369.527492784307\n",
      "alpha and beta for posterior dissribution of variant 'B' will be  396.6880734621692 and 4294.527492784307\n",
      "alpha and beta for posterior dissribution of variant 'A' will be  352.6880734621692 and 4456.527492784307\n",
      "alpha and beta for posterior dissribution of variant 'B' will be  407.6880734621692 and 4410.527492784307\n",
      "alpha and beta for posterior dissribution of variant 'A' will be  359.6880734621692 and 4560.527492784307\n",
      "alpha and beta for posterior dissribution of variant 'B' will be  419.6880734621692 and 4520.527492784307\n",
      "alpha and beta for posterior dissribution of variant 'A' will be  368.6880734621692 and 4667.527492784307\n",
      "alpha and beta for posterior dissribution of variant 'B' will be  427.6880734621692 and 4592.527492784307\n",
      "alpha and beta for posterior dissribution of variant 'A' will be  375.6880734621692 and 4755.527492784307\n",
      "alpha and beta for posterior dissribution of variant 'B' will be  434.6880734621692 and 4684.527492784307\n",
      "alpha and beta for posterior dissribution of variant 'A' will be  381.6880734621692 and 4835.527492784307\n",
      "alpha and beta for posterior dissribution of variant 'B' will be  441.6880734621692 and 4749.527492784307\n",
      "alpha and beta for posterior dissribution of variant 'A' will be  389.6880734621692 and 4927.527492784307\n",
      "alpha and beta for posterior dissribution of variant 'B' will be  447.6880734621692 and 4836.527492784307\n",
      "alpha and beta for posterior dissribution of variant 'A' will be  396.6880734621692 and 5021.527492784307\n",
      "alpha and beta for posterior dissribution of variant 'B' will be  455.6880734621692 and 4938.527492784307\n",
      "alpha and beta for posterior dissribution of variant 'A' will be  404.6880734621692 and 5123.527492784307\n",
      "alpha and beta for posterior dissribution of variant 'B' will be  466.6880734621692 and 5044.527492784307\n",
      "alpha and beta for posterior dissribution of variant 'A' will be  409.6880734621692 and 5196.527492784307\n",
      "alpha and beta for posterior dissribution of variant 'B' will be  475.6880734621692 and 5121.527492784307\n",
      "alpha and beta for posterior dissribution of variant 'A' will be  416.6880734621692 and 5281.527492784307\n",
      "alpha and beta for posterior dissribution of variant 'B' will be  484.6880734621692 and 5204.527492784307\n",
      "alpha and beta for posterior dissribution of variant 'A' will be  423.6880734621692 and 5371.527492784307\n",
      "alpha and beta for posterior dissribution of variant 'B' will be  492.6880734621692 and 5292.527492784307\n",
      "alpha and beta for posterior dissribution of variant 'A' will be  435.6880734621692 and 5503.527492784307\n",
      "alpha and beta for posterior dissribution of variant 'B' will be  499.6880734621692 and 5382.527492784307\n"
     ]
    },
    {
     "data": {
      "text/plain": [
       "[<matplotlib.lines.Line2D at 0x1db715ba240>]"
      ]
     },
     "execution_count": 18,
     "metadata": {},
     "output_type": "execute_result"
    },
    {
     "data": {
      "image/png": "[encoded data removed]",
      "text/plain": [
       "<matplotlib.figure.Figure at 0x1db7632af98>"
      ]
     },
     "metadata": {},
     "output_type": "display_data"
    }
   ],
   "source": [
    "daily_cumu_prob = []\n",
    "for day in range(60):\n",
    "    a = posterior(alpha_prior,beta_prior,'A',day)\n",
    "    b = posterior(alpha_prior,beta_prior,'B',day)\n",
    "    prob=calc_prob_between(b,a)\n",
    "    daily_cumu_prob.append(prob) \n",
    "\n",
    "plt.plot(range(60), daily_cumu_prob)"
   ]
  },
  {
   "cell_type": "code",
   "execution_count": 28,
   "metadata": {},
   "outputs": [
    {
     "name": "stdout",
     "output_type": "stream",
     "text": [
      "alpha and beta for posterior dissribution of variant 'A' will be  231.6880734621692 and 2942.527492784307\n",
      "alpha and beta for posterior dissribution of variant 'B' will be  249.6880734621692 and 2709.527492784307\n",
      "alpha and beta for posterior dissribution of variant 'A' will be  435.6880734621692 and 5503.527492784307\n",
      "alpha and beta for posterior dissribution of variant 'B' will be  499.6880734621692 and 5382.527492784307\n",
      "After day 30: Lift from variant B is 15.60%, and probability of B being better than A based on data is 95.12%\n",
      "After day 60: Lift from variant B is 15.80%, and probability of B being better than A based on data is 99.03%\n"
     ]
    }
   ],
   "source": [
    "#After 30th Day\n",
    "day1 = 30\n",
    "a1 = posterior(alpha_prior,beta_prior,'A',day1)\n",
    "b1 = posterior(alpha_prior,beta_prior,'B',day1)\n",
    "\n",
    "lift1=(b1.mean()-a1.mean())/a1.mean()\n",
    "#calculating the probability for Test to be better than Control\n",
    "prob1=calc_prob_between(b1,a1)\n",
    "\n",
    "day2 = 59\n",
    "a2 = posterior(alpha_prior,beta_prior,'A',day2)\n",
    "b2 = posterior(alpha_prior,beta_prior,'B',day2)\n",
    "\n",
    "lift2=(b2.mean()-a2.mean())/a2.mean()\n",
    "#calculating the probability for Test to be better than Control\n",
    "prob2=calc_prob_between(b2,a2)\n",
    "\n",
    "print(\"After day 30: Lift from variant B is {0:.2f}%, and probability of B being better than A based on data is {1:.2f}%\".format(lift1*100, prob1*100))\n",
    "print(\"After day 60: Lift from variant B is {0:.2f}%, and probability of B being better than A based on data is {1:.2f}%\".format(lift2*100, prob2*100))"
   ]
  },
  {
   "cell_type": "markdown",
   "metadata": {},
   "source": [
    "Monte Carlo simulation for the same"
   ]
  },
  {
   "cell_type": "code",
   "execution_count": 34,
   "metadata": {},
   "outputs": [
    {
     "name": "stderr",
     "output_type": "stream",
     "text": [
      "Multiprocess sampling (2 chains in 2 jobs)\n",
      "CompoundStep\n",
      ">Metropolis: [p_B]\n",
      ">Metropolis: [p_A]\n",
      "Sampling 2 chains: 100%|█████████████████████████████████████████████████████| 41000/41000 [00:49<00:00, 835.66draws/s]\n",
      "The number of effective samples is smaller than 25% for some parameters.\n"
     ]
    },
    {
     "name": "stdout",
     "output_type": "stream",
     "text": [
      "simulation for day 1 complete\n"
     ]
    },
    {
     "name": "stderr",
     "output_type": "stream",
     "text": [
      "Multiprocess sampling (2 chains in 2 jobs)\n",
      "CompoundStep\n",
      ">Metropolis: [p_B]\n",
      ">Metropolis: [p_A]\n",
      "Sampling 2 chains: 100%|█████████████████████████████████████████████████████| 41000/41000 [00:47<00:00, 855.74draws/s]\n",
      "The number of effective samples is smaller than 25% for some parameters.\n"
     ]
    },
    {
     "name": "stdout",
     "output_type": "stream",
     "text": [
      "simulation for day 2 complete\n"
     ]
    },
    {
     "name": "stderr",
     "output_type": "stream",
     "text": [
      "Multiprocess sampling (2 chains in 2 jobs)\n",
      "CompoundStep\n",
      ">Metropolis: [p_B]\n",
      ">Metropolis: [p_A]\n",
      "Sampling 2 chains: 100%|█████████████████████████████████████████████████████| 41000/41000 [00:55<00:00, 739.72draws/s]\n",
      "The number of effective samples is smaller than 25% for some parameters.\n"
     ]
    },
    {
     "name": "stdout",
     "output_type": "stream",
     "text": [
      "simulation for day 3 complete\n"
     ]
    },
    {
     "name": "stderr",
     "output_type": "stream",
     "text": [
      "Multiprocess sampling (2 chains in 2 jobs)\n",
      "CompoundStep\n",
      ">Metropolis: [p_B]\n",
      ">Metropolis: [p_A]\n",
      "Sampling 2 chains: 100%|█████████████████████████████████████████████████████| 41000/41000 [01:08<00:00, 596.04draws/s]\n",
      "The number of effective samples is smaller than 25% for some parameters.\n"
     ]
    },
    {
     "name": "stdout",
     "output_type": "stream",
     "text": [
      "simulation for day 4 complete\n"
     ]
    },
    {
     "name": "stderr",
     "output_type": "stream",
     "text": [
      "Multiprocess sampling (2 chains in 2 jobs)\n",
      "CompoundStep\n",
      ">Metropolis: [p_B]\n",
      ">Metropolis: [p_A]\n",
      "Sampling 2 chains: 100%|█████████████████████████████████████████████████████| 41000/41000 [00:52<00:00, 784.24draws/s]\n",
      "The number of effective samples is smaller than 25% for some parameters.\n"
     ]
    },
    {
     "name": "stdout",
     "output_type": "stream",
     "text": [
      "simulation for day 5 complete\n"
     ]
    },
    {
     "name": "stderr",
     "output_type": "stream",
     "text": [
      "Multiprocess sampling (2 chains in 2 jobs)\n",
      "CompoundStep\n",
      ">Metropolis: [p_B]\n",
      ">Metropolis: [p_A]\n",
      "Sampling 2 chains: 100%|█████████████████████████████████████████████████████| 41000/41000 [00:56<00:00, 725.12draws/s]\n",
      "The number of effective samples is smaller than 25% for some parameters.\n"
     ]
    },
    {
     "name": "stdout",
     "output_type": "stream",
     "text": [
      "simulation for day 6 complete\n"
     ]
    },
    {
     "name": "stderr",
     "output_type": "stream",
     "text": [
      "Multiprocess sampling (2 chains in 2 jobs)\n",
      "CompoundStep\n",
      ">Metropolis: [p_B]\n",
      ">Metropolis: [p_A]\n",
      "Sampling 2 chains: 100%|█████████████████████████████████████████████████████| 41000/41000 [00:54<00:00, 753.47draws/s]\n",
      "The number of effective samples is smaller than 25% for some parameters.\n"
     ]
    },
    {
     "name": "stdout",
     "output_type": "stream",
     "text": [
      "simulation for day 7 complete\n"
     ]
    },
    {
     "name": "stderr",
     "output_type": "stream",
     "text": [
      "Multiprocess sampling (2 chains in 2 jobs)\n",
      "CompoundStep\n",
      ">Metropolis: [p_B]\n",
      ">Metropolis: [p_A]\n",
      "Sampling 2 chains: 100%|█████████████████████████████████████████████████████| 41000/41000 [00:59<00:00, 686.35draws/s]\n",
      "The number of effective samples is smaller than 25% for some parameters.\n"
     ]
    },
    {
     "name": "stdout",
     "output_type": "stream",
     "text": [
      "simulation for day 8 complete\n"
     ]
    },
    {
     "name": "stderr",
     "output_type": "stream",
     "text": [
      "Multiprocess sampling (2 chains in 2 jobs)\n",
      "CompoundStep\n",
      ">Metropolis: [p_B]\n",
      ">Metropolis: [p_A]\n",
      "Sampling 2 chains: 100%|█████████████████████████████████████████████████████| 41000/41000 [01:01<00:00, 661.90draws/s]\n",
      "The number of effective samples is smaller than 25% for some parameters.\n"
     ]
    },
    {
     "name": "stdout",
     "output_type": "stream",
     "text": [
      "simulation for day 9 complete\n"
     ]
    },
    {
     "name": "stderr",
     "output_type": "stream",
     "text": [
      "Multiprocess sampling (2 chains in 2 jobs)\n",
      "CompoundStep\n",
      ">Metropolis: [p_B]\n",
      ">Metropolis: [p_A]\n",
      "Sampling 2 chains: 100%|█████████████████████████████████████████████████████| 41000/41000 [00:58<00:00, 701.39draws/s]\n",
      "The number of effective samples is smaller than 25% for some parameters.\n"
     ]
    },
    {
     "name": "stdout",
     "output_type": "stream",
     "text": [
      "simulation for day 10 complete\n"
     ]
    },
    {
     "name": "stderr",
     "output_type": "stream",
     "text": [
      "Multiprocess sampling (2 chains in 2 jobs)\n",
      "CompoundStep\n",
      ">Metropolis: [p_B]\n",
      ">Metropolis: [p_A]\n",
      "Sampling 2 chains: 100%|█████████████████████████████████████████████████████| 41000/41000 [01:00<00:00, 679.60draws/s]\n",
      "The number of effective samples is smaller than 25% for some parameters.\n"
     ]
    },
    {
     "name": "stdout",
     "output_type": "stream",
     "text": [
      "simulation for day 11 complete\n"
     ]
    },
    {
     "name": "stderr",
     "output_type": "stream",
     "text": [
      "Multiprocess sampling (2 chains in 2 jobs)\n",
      "CompoundStep\n",
      ">Metropolis: [p_B]\n",
      ">Metropolis: [p_A]\n",
      "Sampling 2 chains: 100%|█████████████████████████████████████████████████████| 41000/41000 [00:53<00:00, 763.24draws/s]\n",
      "The number of effective samples is smaller than 25% for some parameters.\n"
     ]
    },
    {
     "name": "stdout",
     "output_type": "stream",
     "text": [
      "simulation for day 12 complete\n"
     ]
    },
    {
     "name": "stderr",
     "output_type": "stream",
     "text": [
      "Multiprocess sampling (2 chains in 2 jobs)\n",
      "CompoundStep\n",
      ">Metropolis: [p_B]\n",
      ">Metropolis: [p_A]\n",
      "Sampling 2 chains: 100%|█████████████████████████████████████████████████████| 41000/41000 [00:55<00:00, 744.45draws/s]\n",
      "The number of effective samples is smaller than 25% for some parameters.\n"
     ]
    },
    {
     "name": "stdout",
     "output_type": "stream",
     "text": [
      "simulation for day 13 complete\n"
     ]
    },
    {
     "name": "stderr",
     "output_type": "stream",
     "text": [
      "Multiprocess sampling (2 chains in 2 jobs)\n",
      "CompoundStep\n",
      ">Metropolis: [p_B]\n",
      ">Metropolis: [p_A]\n",
      "Sampling 2 chains: 100%|█████████████████████████████████████████████████████| 41000/41000 [00:55<00:00, 745.23draws/s]\n",
      "The number of effective samples is smaller than 25% for some parameters.\n"
     ]
    },
    {
     "name": "stdout",
     "output_type": "stream",
     "text": [
      "simulation for day 14 complete\n"
     ]
    },
    {
     "name": "stderr",
     "output_type": "stream",
     "text": [
      "Multiprocess sampling (2 chains in 2 jobs)\n",
      "CompoundStep\n",
      ">Metropolis: [p_B]\n",
      ">Metropolis: [p_A]\n",
      "Sampling 2 chains: 100%|█████████████████████████████████████████████████████| 41000/41000 [00:49<00:00, 835.59draws/s]\n",
      "The number of effective samples is smaller than 25% for some parameters.\n"
     ]
    },
    {
     "name": "stdout",
     "output_type": "stream",
     "text": [
      "simulation for day 15 complete\n"
     ]
    },
    {
     "name": "stderr",
     "output_type": "stream",
     "text": [
      "Multiprocess sampling (2 chains in 2 jobs)\n",
      "CompoundStep\n",
      ">Metropolis: [p_B]\n",
      ">Metropolis: [p_A]\n",
      "Sampling 2 chains: 100%|█████████████████████████████████████████████████████| 41000/41000 [00:55<00:00, 738.24draws/s]\n",
      "The number of effective samples is smaller than 25% for some parameters.\n"
     ]
    },
    {
     "name": "stdout",
     "output_type": "stream",
     "text": [
      "simulation for day 16 complete\n"
     ]
    },
    {
     "name": "stderr",
     "output_type": "stream",
     "text": [
      "Multiprocess sampling (2 chains in 2 jobs)\n",
      "CompoundStep\n",
      ">Metropolis: [p_B]\n",
      ">Metropolis: [p_A]\n",
      "Sampling 2 chains: 100%|█████████████████████████████████████████████████████| 41000/41000 [00:55<00:00, 733.92draws/s]\n",
      "The number of effective samples is smaller than 25% for some parameters.\n"
     ]
    },
    {
     "name": "stdout",
     "output_type": "stream",
     "text": [
      "simulation for day 17 complete\n"
     ]
    },
    {
     "name": "stderr",
     "output_type": "stream",
     "text": [
      "Multiprocess sampling (2 chains in 2 jobs)\n",
      "CompoundStep\n",
      ">Metropolis: [p_B]\n",
      ">Metropolis: [p_A]\n",
      "Sampling 2 chains: 100%|█████████████████████████████████████████████████████| 41000/41000 [00:58<00:00, 695.64draws/s]\n",
      "The number of effective samples is smaller than 25% for some parameters.\n"
     ]
    },
    {
     "name": "stdout",
     "output_type": "stream",
     "text": [
      "simulation for day 18 complete\n"
     ]
    },
    {
     "name": "stderr",
     "output_type": "stream",
     "text": [
      "Multiprocess sampling (2 chains in 2 jobs)\n",
      "CompoundStep\n",
      ">Metropolis: [p_B]\n",
      ">Metropolis: [p_A]\n",
      "Sampling 2 chains: 100%|█████████████████████████████████████████████████████| 41000/41000 [01:10<00:00, 583.13draws/s]\n",
      "The number of effective samples is smaller than 25% for some parameters.\n"
     ]
    },
    {
     "name": "stdout",
     "output_type": "stream",
     "text": [
      "simulation for day 19 complete\n"
     ]
    },
    {
     "name": "stderr",
     "output_type": "stream",
     "text": [
      "Multiprocess sampling (2 chains in 2 jobs)\n",
      "CompoundStep\n",
      ">Metropolis: [p_B]\n",
      ">Metropolis: [p_A]\n",
      "Sampling 2 chains: 100%|█████████████████████████████████████████████████████| 41000/41000 [00:50<00:00, 809.24draws/s]\n",
      "The number of effective samples is smaller than 25% for some parameters.\n"
     ]
    },
    {
     "name": "stdout",
     "output_type": "stream",
     "text": [
      "simulation for day 20 complete\n"
     ]
    },
    {
     "name": "stderr",
     "output_type": "stream",
     "text": [
      "Multiprocess sampling (2 chains in 2 jobs)\n",
      "CompoundStep\n",
      ">Metropolis: [p_B]\n",
      ">Metropolis: [p_A]\n",
      "Sampling 2 chains: 100%|█████████████████████████████████████████████████████| 41000/41000 [00:58<00:00, 703.23draws/s]\n",
      "The number of effective samples is smaller than 25% for some parameters.\n"
     ]
    },
    {
     "name": "stdout",
     "output_type": "stream",
     "text": [
      "simulation for day 21 complete\n"
     ]
    },
    {
     "name": "stderr",
     "output_type": "stream",
     "text": [
      "Multiprocess sampling (2 chains in 2 jobs)\n",
      "CompoundStep\n",
      ">Metropolis: [p_B]\n",
      ">Metropolis: [p_A]\n",
      "Sampling 2 chains: 100%|█████████████████████████████████████████████████████| 41000/41000 [00:54<00:00, 757.31draws/s]\n",
      "The number of effective samples is smaller than 25% for some parameters.\n"
     ]
    },
    {
     "name": "stdout",
     "output_type": "stream",
     "text": [
      "simulation for day 22 complete\n"
     ]
    },
    {
     "name": "stderr",
     "output_type": "stream",
     "text": [
      "Multiprocess sampling (2 chains in 2 jobs)\n",
      "CompoundStep\n",
      ">Metropolis: [p_B]\n",
      ">Metropolis: [p_A]\n",
      "Sampling 2 chains: 100%|█████████████████████████████████████████████████████| 41000/41000 [01:05<00:00, 626.74draws/s]\n",
      "The number of effective samples is smaller than 25% for some parameters.\n"
     ]
    },
    {
     "name": "stdout",
     "output_type": "stream",
     "text": [
      "simulation for day 23 complete\n"
     ]
    },
    {
     "name": "stderr",
     "output_type": "stream",
     "text": [
      "Multiprocess sampling (2 chains in 2 jobs)\n",
      "CompoundStep\n",
      ">Metropolis: [p_B]\n",
      ">Metropolis: [p_A]\n",
      "Sampling 2 chains: 100%|█████████████████████████████████████████████████████| 41000/41000 [01:05<00:00, 629.01draws/s]\n",
      "The number of effective samples is smaller than 25% for some parameters.\n"
     ]
    },
    {
     "name": "stdout",
     "output_type": "stream",
     "text": [
      "simulation for day 24 complete\n"
     ]
    },
    {
     "name": "stderr",
     "output_type": "stream",
     "text": [
      "Multiprocess sampling (2 chains in 2 jobs)\n",
      "CompoundStep\n",
      ">Metropolis: [p_B]\n",
      ">Metropolis: [p_A]\n",
      "Sampling 2 chains: 100%|█████████████████████████████████████████████████████| 41000/41000 [01:05<00:00, 623.26draws/s]\n",
      "The number of effective samples is smaller than 25% for some parameters.\n"
     ]
    },
    {
     "name": "stdout",
     "output_type": "stream",
     "text": [
      "simulation for day 25 complete\n"
     ]
    },
    {
     "name": "stderr",
     "output_type": "stream",
     "text": [
      "Multiprocess sampling (2 chains in 2 jobs)\n",
      "CompoundStep\n",
      ">Metropolis: [p_B]\n",
      ">Metropolis: [p_A]\n",
      "Sampling 2 chains: 100%|█████████████████████████████████████████████████████| 41000/41000 [01:03<00:00, 644.40draws/s]\n",
      "The number of effective samples is smaller than 25% for some parameters.\n"
     ]
    },
    {
     "name": "stdout",
     "output_type": "stream",
     "text": [
      "simulation for day 26 complete\n"
     ]
    },
    {
     "name": "stderr",
     "output_type": "stream",
     "text": [
      "Multiprocess sampling (2 chains in 2 jobs)\n",
      "CompoundStep\n",
      ">Metropolis: [p_B]\n",
      ">Metropolis: [p_A]\n",
      "Sampling 2 chains: 100%|█████████████████████████████████████████████████████| 41000/41000 [00:54<00:00, 755.72draws/s]\n",
      "The number of effective samples is smaller than 10% for some parameters.\n"
     ]
    },
    {
     "name": "stdout",
     "output_type": "stream",
     "text": [
      "simulation for day 27 complete\n"
     ]
    },
    {
     "name": "stderr",
     "output_type": "stream",
     "text": [
      "Multiprocess sampling (2 chains in 2 jobs)\n",
      "CompoundStep\n",
      ">Metropolis: [p_B]\n",
      ">Metropolis: [p_A]\n",
      "Sampling 2 chains: 100%|█████████████████████████████████████████████████████| 41000/41000 [01:17<00:00, 527.04draws/s]\n",
      "The number of effective samples is smaller than 10% for some parameters.\n"
     ]
    },
    {
     "name": "stdout",
     "output_type": "stream",
     "text": [
      "simulation for day 28 complete\n"
     ]
    },
    {
     "name": "stderr",
     "output_type": "stream",
     "text": [
      "Multiprocess sampling (2 chains in 2 jobs)\n",
      "CompoundStep\n",
      ">Metropolis: [p_B]\n",
      ">Metropolis: [p_A]\n",
      "Sampling 2 chains: 100%|█████████████████████████████████████████████████████| 41000/41000 [00:48<00:00, 850.60draws/s]\n",
      "The number of effective samples is smaller than 25% for some parameters.\n"
     ]
    },
    {
     "name": "stdout",
     "output_type": "stream",
     "text": [
      "simulation for day 29 complete\n"
     ]
    },
    {
     "name": "stderr",
     "output_type": "stream",
     "text": [
      "Multiprocess sampling (2 chains in 2 jobs)\n",
      "CompoundStep\n",
      ">Metropolis: [p_B]\n",
      ">Metropolis: [p_A]\n",
      "Sampling 2 chains: 100%|█████████████████████████████████████████████████████| 41000/41000 [00:46<00:00, 878.32draws/s]\n",
      "The number of effective samples is smaller than 10% for some parameters.\n"
     ]
    },
    {
     "name": "stdout",
     "output_type": "stream",
     "text": [
      "simulation for day 30 complete\n"
     ]
    },
    {
     "name": "stderr",
     "output_type": "stream",
     "text": [
      "Multiprocess sampling (2 chains in 2 jobs)\n",
      "CompoundStep\n",
      ">Metropolis: [p_B]\n",
      ">Metropolis: [p_A]\n",
      "Sampling 2 chains: 100%|█████████████████████████████████████████████████████| 41000/41000 [01:14<00:00, 552.58draws/s]\n",
      "The number of effective samples is smaller than 10% for some parameters.\n"
     ]
    },
    {
     "name": "stdout",
     "output_type": "stream",
     "text": [
      "simulation for day 31 complete\n"
     ]
    },
    {
     "data": {
      "text/plain": [
       "[<matplotlib.lines.Line2D at 0x1db7a537780>]"
      ]
     },
     "execution_count": 34,
     "metadata": {},
     "output_type": "execute_result"
    },
    {
     "data": {
      "image/png": "[encoded data removed]",
      "text/plain": [
       "<matplotlib.figure.Figure at 0x1db79571240>"
      ]
     },
     "metadata": {},
     "output_type": "display_data"
    }
   ],
   "source": [
    "daily_cumu_prob_mcmc = []\n",
    "x = 0 #counter\n",
    "\n",
    "for click_day in range(31):\n",
    "    conversions_a = conv_days.loc[conv_days['click_day'] == click_day]['cumu_conv_a'].values[0]\n",
    "    clicks_a = conv_days.loc[conv_days['click_day'] == click_day]['cumu_click_a'].values[0]\n",
    "    conversions_b = conv_days.loc[conv_days['click_day'] == click_day]['cumu_conv_b'].values[0]\n",
    "    clicks_b = conv_days.loc[conv_days['click_day'] == click_day]['cumu_click_b'].values[0]\n",
    "\n",
    "    x += 1\n",
    "    with pm.Model() as model:\n",
    "        \n",
    "        p_A = pm.Beta(\"p_A\", alpha_prior, beta_prior)\n",
    "        p_B = pm.Beta(\"p_B\",alpha_prior, beta_prior)\n",
    "        \n",
    "        # Define the deterministic delta function. This is our unknown of interest.\n",
    "        delta = pm.Deterministic(\"delta\", p_A - p_B)\n",
    "    \n",
    "        \n",
    "        # Set of observations, in this case we have two observation datasets.\n",
    "        obs_A = pm.Binomial(\"obs_A\", p=p_A, n = clicks_a, observed=conversions_a)\n",
    "        obs_B = pm.Binomial(\"obs_B\", p=p_B, n = clicks_b, observed=conversions_b)\n",
    "    \n",
    "        # To be explained in chapter 3.\n",
    "        step = pm.Metropolis()\n",
    "        trace = pm.sample(20000, step=step, progressbar = True)\n",
    "        burned_trace=trace[1000:]\n",
    "        \n",
    "       \n",
    "    p_A_samples = burned_trace[\"p_A\"]\n",
    "    p_B_samples = burned_trace[\"p_B\"]\n",
    "    delta_samples = burned_trace[\"delta\"]\n",
    "    \n",
    "    daily_cumu_prob_mcmc.append(np.mean(delta_samples > 0))\n",
    "    print(\"simulation for day {0} complete\".format(x))\n",
    "    \n",
    "plt.plot(range(60), daily_cumu_prob)   "
   ]
  },
  {
   "cell_type": "code",
   "execution_count": 38,
   "metadata": {},
   "outputs": [
    {
     "data": {
      "text/plain": [
       "array([<matplotlib.axes._subplots.AxesSubplot object at 0x000001DB78B4EA20>,\n",
       "       <matplotlib.axes._subplots.AxesSubplot object at 0x000001DB7BD1E320>,\n",
       "       <matplotlib.axes._subplots.AxesSubplot object at 0x000001DB7C250080>],\n",
       "      dtype=object)"
      ]
     },
     "execution_count": 38,
     "metadata": {},
     "output_type": "execute_result"
    },
    {
     "data": {
      "image/png": "[encoded data removed]",
      "text/plain": [
       "<matplotlib.figure.Figure at 0x1db7c639ac8>"
      ]
     },
     "metadata": {},
     "output_type": "display_data"
    }
   ],
   "source": [
    "#plt.plot(range(60), daily_cumu_prob)   \n",
    "pm.plot_posterior(burned_trace, color='#87ceeb')"
   ]
  },
  {
   "cell_type": "code",
   "execution_count": 40,
   "metadata": {},
   "outputs": [
    {
     "name": "stderr",
     "output_type": "stream",
     "text": [
      "Multiprocess sampling (2 chains in 2 jobs)\n",
      "CompoundStep\n",
      ">Metropolis: [p_B]\n",
      ">Metropolis: [p_A]\n",
      "Sampling 2 chains: 100%|█████████████████████████████████████████████████████| 41000/41000 [00:48<00:00, 841.38draws/s]\n",
      "The number of effective samples is smaller than 10% for some parameters.\n"
     ]
    },
    {
     "data": {
      "text/plain": [
       "array([<matplotlib.axes._subplots.AxesSubplot object at 0x000001DB7BD7D6A0>,\n",
       "       <matplotlib.axes._subplots.AxesSubplot object at 0x000001DB7A7EBE80>,\n",
       "       <matplotlib.axes._subplots.AxesSubplot object at 0x000001DB791A7D68>],\n",
       "      dtype=object)"
      ]
     },
     "execution_count": 40,
     "metadata": {},
     "output_type": "execute_result"
    },
    {
     "data": {
      "image/png": "[encoded data removed]",
      "text/plain": [
       "<matplotlib.figure.Figure at 0x1db791260f0>"
      ]
     },
     "metadata": {},
     "output_type": "display_data"
    }
   ],
   "source": [
    "with pm.Model() as model:\n",
    "        \n",
    "        p_A = pm.Beta(\"p_A\", alpha_prior, beta_prior)\n",
    "        p_B = pm.Beta(\"p_B\",alpha_prior, beta_prior)\n",
    "        \n",
    "        # Define the deterministic delta function. This is our unknown of interest.\n",
    "        delta = pm.Deterministic(\"delta\", p_B - p_A)\n",
    "    \n",
    "        \n",
    "        # Set of observations, in this case we have two observation datasets.\n",
    "        obs_A = pm.Binomial(\"obs_A\", p=p_A, n = clicks_a, observed=conversions_a)\n",
    "        obs_B = pm.Binomial(\"obs_B\", p=p_B, n = clicks_b, observed=conversions_b)\n",
    "    \n",
    "        # To be explained in chapter 3.\n",
    "        step = pm.Metropolis()\n",
    "        trace = pm.sample(20000, step=step, progressbar = True)\n",
    "        burned_trace=trace[1000:]\n",
    "        \n",
    "       \n",
    "        p_A_samples = burned_trace[\"p_A\"]\n",
    "        p_B_samples = burned_trace[\"p_B\"]\n",
    "        delta_samples = burned_trace[\"delta\"]\n",
    "\n",
    "pm.plot_posterior(burned_trace, color='#87ceeb')"
   ]
  },
  {
   "cell_type": "code",
   "execution_count": 41,
   "metadata": {},
   "outputs": [
    {
     "name": "stderr",
     "output_type": "stream",
     "text": [
      "C:\\Users\\chaitanya.srivastava\\AppData\\Local\\Continuum\\anaconda3\\lib\\site-packages\\pymc3\\stats.py:982: FutureWarning: The join_axes-keyword is deprecated. Use .reindex or .reindex_like on the result to achieve the same functionality.\n",
      "  axis=1, join_axes=[dforg.index])\n"
     ]
    },
    {
     "data": {
      "text/html": [
       "<div>\n",
       "<style scoped>\n",
       "    .dataframe tbody tr th:only-of-type {\n",
       "        vertical-align: middle;\n",
       "    }\n",
       "\n",
       "    .dataframe tbody tr th {\n",
       "        vertical-align: top;\n",
       "    }\n",
       "\n",
       "    .dataframe thead th {\n",
       "        text-align: right;\n",
       "    }\n",
       "</style>\n",
       "<table border=\"1\" class=\"dataframe\">\n",
       "  <thead>\n",
       "    <tr style=\"text-align: right;\">\n",
       "      <th></th>\n",
       "      <th>mean</th>\n",
       "      <th>sd</th>\n",
       "      <th>mc_error</th>\n",
       "      <th>hpd_2.5</th>\n",
       "      <th>hpd_97.5</th>\n",
       "      <th>n_eff</th>\n",
       "      <th>Rhat</th>\n",
       "    </tr>\n",
       "  </thead>\n",
       "  <tbody>\n",
       "    <tr>\n",
       "      <th>p_A</th>\n",
       "      <td>0.072903</td>\n",
       "      <td>0.004561</td>\n",
       "      <td>0.000067</td>\n",
       "      <td>0.063690</td>\n",
       "      <td>0.081588</td>\n",
       "      <td>4684.576537</td>\n",
       "      <td>0.999979</td>\n",
       "    </tr>\n",
       "    <tr>\n",
       "      <th>p_B</th>\n",
       "      <td>0.084412</td>\n",
       "      <td>0.005057</td>\n",
       "      <td>0.000087</td>\n",
       "      <td>0.074387</td>\n",
       "      <td>0.094132</td>\n",
       "      <td>3922.992215</td>\n",
       "      <td>0.999994</td>\n",
       "    </tr>\n",
       "    <tr>\n",
       "      <th>delta</th>\n",
       "      <td>0.011509</td>\n",
       "      <td>0.006762</td>\n",
       "      <td>0.000116</td>\n",
       "      <td>-0.002086</td>\n",
       "      <td>0.024589</td>\n",
       "      <td>4179.297986</td>\n",
       "      <td>0.999979</td>\n",
       "    </tr>\n",
       "  </tbody>\n",
       "</table>\n",
       "</div>"
      ],
      "text/plain": [
       "           mean        sd  mc_error   hpd_2.5  hpd_97.5        n_eff      Rhat\n",
       "p_A    0.072903  0.004561  0.000067  0.063690  0.081588  4684.576537  0.999979\n",
       "p_B    0.084412  0.005057  0.000087  0.074387  0.094132  3922.992215  0.999994\n",
       "delta  0.011509  0.006762  0.000116 -0.002086  0.024589  4179.297986  0.999979"
      ]
     },
     "execution_count": 41,
     "metadata": {},
     "output_type": "execute_result"
    }
   ],
   "source": [
    "pm.summary(trace)"
   ]
  }
 ],
 "metadata": {
  "hide_input": false,
  "kernelspec": {
   "display_name": "Python 3",
   "language": "python",
   "name": "python3"
  },
  "language_info": {
   "codemirror_mode": {
    "name": "ipython",
    "version": 3
   },
   "file_extension": ".py",
   "mimetype": "text/x-python",
   "name": "python",
   "nbconvert_exporter": "python",
   "pygments_lexer": "ipython3",
   "version": "3.7.4"
  },
  "latex_envs": {
   "LaTeX_envs_menu_present": true,
   "autoclose": false,
   "autocomplete": true,
   "bibliofile": "biblio.bib",
   "cite_by": "apalike",
   "current_citInitial": 1,
   "eqLabelWithNumbers": true,
   "eqNumInitial": 1,
   "hotkeys": {
    "equation": "Ctrl-E",
    "itemize": "Ctrl-I"
   },
   "labels_anchors": false,
   "latex_user_defs": false,
   "report_style_numbering": false,
   "user_envs_cfg": false
  },
  "toc": {
   "base_numbering": 1,
   "nav_menu": {},
   "number_sections": true,
   "sideBar": true,
   "skip_h1_title": false,
   "title_cell": "Table of Contents",
   "title_sidebar": "Contents",
   "toc_cell": false,
   "toc_position": {},
   "toc_section_display": true,
   "toc_window_display": false
  }
 },
 "nbformat": 4,
 "nbformat_minor": 2
}
